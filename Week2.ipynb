{
  "cells": [
    {
      "cell_type": "code",
      "source": [
        "!pip uninstall pycrypto\n",
        "!easy_install pycrypto"
      ],
      "metadata": {
        "colab": {
          "base_uri": "https://localhost:8080/"
        },
        "id": "ajXY-3OUZkBu",
        "outputId": "7f335fd3-0696-49e4-eab8-1020a7c0c827"
      },
      "execution_count": 6,
      "outputs": [
        {
          "output_type": "stream",
          "name": "stdout",
          "text": [
            "\u001b[33mWARNING: Skipping pycrypto as it is not installed.\u001b[0m\n",
            "WARNING: The easy_install command is deprecated and will be removed in a future version.\n",
            "Searching for pycrypto\n",
            "Reading https://pypi.org/simple/pycrypto/\n",
            "Downloading https://files.pythonhosted.org/packages/60/db/645aa9af249f059cc3a368b118de33889219e0362141e75d4eaf6f80f163/pycrypto-2.6.1.tar.gz#sha256=f2ce1e989b272cfcb677616763e0a2e7ec659effa67a88aa92b3a65528f60a3c\n",
            "Best match: pycrypto 2.6.1\n",
            "Processing pycrypto-2.6.1.tar.gz\n",
            "Writing /tmp/easy_install-Wo2xeH/pycrypto-2.6.1/setup.cfg\n",
            "Running pycrypto-2.6.1/setup.py -q bdist_egg --dist-dir /tmp/easy_install-Wo2xeH/pycrypto-2.6.1/egg-dist-tmp-xOAPdQ\n",
            "warning: GMP or MPIR library not found; Not building Crypto.PublicKey._fastmath.\n",
            "zip_safe flag not set; analyzing archive contents...\n",
            "Moving pycrypto-2.6.1-py2.7-linux-x86_64.egg to /usr/local/lib/python2.7/dist-packages\n",
            "Adding pycrypto 2.6.1 to easy-install.pth file\n",
            "\n",
            "Installed /usr/local/lib/python2.7/dist-packages/pycrypto-2.6.1-py2.7-linux-x86_64.egg\n",
            "Processing dependencies for pycrypto\n",
            "Finished processing dependencies for pycrypto\n"
          ]
        }
      ]
    },
    {
      "cell_type": "code",
      "source": [
        "!pip install pycrypto"
      ],
      "metadata": {
        "colab": {
          "base_uri": "https://localhost:8080/"
        },
        "id": "u7WqE9kVZ3uT",
        "outputId": "b5ccbf48-5dab-4b4a-a051-ea3818ef90dc"
      },
      "execution_count": 8,
      "outputs": [
        {
          "output_type": "stream",
          "name": "stdout",
          "text": [
            "Looking in indexes: https://pypi.org/simple, https://us-python.pkg.dev/colab-wheels/public/simple/\n",
            "Collecting pycrypto\n",
            "  Downloading pycrypto-2.6.1.tar.gz (446 kB)\n",
            "\u001b[K     |████████████████████████████████| 446 kB 3.8 MB/s \n",
            "\u001b[?25hBuilding wheels for collected packages: pycrypto\n",
            "  Building wheel for pycrypto (setup.py) ... \u001b[?25l\u001b[?25hdone\n",
            "  Created wheel for pycrypto: filename=pycrypto-2.6.1-cp37-cp37m-linux_x86_64.whl size=499932 sha256=32a796a63dbbdefde787fa93d9bac1904932fb14287220228d6417ae00b2dd22\n",
            "  Stored in directory: /root/.cache/pip/wheels/cf/85/ba/bbd7c96add459de7598fb424e5ff2309baf2095c844ac0f191\n",
            "Successfully built pycrypto\n",
            "Installing collected packages: pycrypto\n",
            "Successfully installed pycrypto-2.6.1\n"
          ]
        }
      ]
    },
    {
      "cell_type": "code",
      "source": [
        "from os import urandom\n",
        "from Crypto.Cipher import AES\n",
        "import Crypto.Cipher.AES\n",
        "from binascii import hexlify, unhexlify\n",
        "\n",
        "hexkey = '140b41b22a29beb4061bda66b6747e14'\n",
        "CBCCipherhe = '5b68629feb8606f9a6667670b75b38a5b4832d0f26e1ab7da33249de7d4afc48e713ac646ace36e872ad5fb8a512428a6e21364b0c374df45503473c5242a253'\n",
        "IVCipherhex = CBCCipherhe[:32]\n",
        "Cipherhex = CBCCipherhe[32:]\n",
        "Cipherhex = unhexlify(Cipherhex)\n",
        "IVCipherhex = unhexlify(IVCipherhex)\n",
        "hexkey = unhexlify(hexkey)\n",
        "\n",
        "\n",
        "\n",
        "\n",
        "# For Generating cipher text\n",
        "\n",
        "obj = AES.new(hexkey, AES.MODE_CBC, IVCipherhex)\n",
        "\n",
        "\n",
        "# Decrypt the message\n",
        "rev_obj = AES.new(hexkey, AES.MODE_CBC, IVCipherhex)\n",
        "decrypted_text = rev_obj.decrypt(Cipherhex)\n",
        "print(decrypted_text)\n"
      ],
      "metadata": {
        "colab": {
          "base_uri": "https://localhost:8080/"
        },
        "id": "7UxQTRcIZgR9",
        "outputId": "d3f9ab9c-c826-426a-ffa0-e2772c76fa57"
      },
      "execution_count": 21,
      "outputs": [
        {
          "output_type": "stream",
          "name": "stdout",
          "text": [
            "b'Our implementation uses rand. IV\\x10\\x10\\x10\\x10\\x10\\x10\\x10\\x10\\x10\\x10\\x10\\x10\\x10\\x10\\x10\\x10'\n"
          ]
        }
      ]
    },
    {
      "cell_type": "markdown",
      "metadata": {
        "id": "GnUZ7shSFRt2"
      },
      "source": [
        "Load data"
      ]
    },
    {
      "cell_type": "code",
      "source": [
        "import pandas as pd\n",
        "jp = pd.read_csv('/content/Japan_Test.csv')\n",
        "cn = pd.read_csv('/content/China_Test.csv')"
      ],
      "metadata": {
        "id": "G9ezedMdZ4Yo"
      },
      "execution_count": null,
      "outputs": []
    },
    {
      "cell_type": "code",
      "source": [
        "j=0\n",
        "c=0\n",
        "for i in range(len(jp)):\n",
        "  if(jp['MinCos'][i]>0.3):\n",
        "    j+=1\n",
        "for i in range(len(cn)):\n",
        "  if(cn['MinCos'][i]>0.3):\n",
        "    c+=1\n",
        "print(j)\n",
        "print(c)"
      ],
      "metadata": {
        "colab": {
          "base_uri": "https://localhost:8080/"
        },
        "id": "VqXS4ooXvXiS",
        "outputId": "3ec07e83-3d45-4abd-a5da-5a6bf9c9ea9a"
      },
      "execution_count": null,
      "outputs": [
        {
          "output_type": "stream",
          "name": "stdout",
          "text": [
            "7274\n",
            "8763\n"
          ]
        }
      ]
    },
    {
      "cell_type": "code",
      "source": [
        "import pandas as pd\n",
        "  \n",
        "# reading two csv files\n",
        "data1 = pd.read_csv('/content/Indo_test_timestamps.csv')\n",
        "data2 = pd.read_csv('/content/Indo_test_timestamps1.csv')\n",
        "  \n",
        "print(data1)"
      ],
      "metadata": {
        "colab": {
          "base_uri": "https://localhost:8080/"
        },
        "id": "FD6XuNgz0Kx7",
        "outputId": "51c85c68-0fe2-4ac7-d0ad-f8043495bf6d"
      },
      "execution_count": null,
      "outputs": [
        {
          "output_type": "stream",
          "name": "stdout",
          "text": [
            "                                                    path  \\\n",
            "0      /content/drive/MyDrive/Data_SV/Indo_test/zRfGu...   \n",
            "1      /content/drive/MyDrive/Data_SV/Indo_test/zRfGu...   \n",
            "2      /content/drive/MyDrive/Data_SV/Indo_test/zRfGu...   \n",
            "3      /content/drive/MyDrive/Data_SV/Indo_test/zRfGu...   \n",
            "4      /content/drive/MyDrive/Data_SV/Indo_test/zRfGu...   \n",
            "...                                                  ...   \n",
            "19340  /content/drive/MyDrive/Data_SV/Indo_test/00JfF...   \n",
            "19341  /content/drive/MyDrive/Data_SV/Indo_test/00JfF...   \n",
            "19342  /content/drive/MyDrive/Data_SV/Indo_test/00JfF...   \n",
            "19343  /content/drive/MyDrive/Data_SV/Indo_test/00JfF...   \n",
            "19344  /content/drive/MyDrive/Data_SV/Indo_test/00JfF...   \n",
            "\n",
            "                                              timestamps  \n",
            "0      {'start': 16416, 'end': 26592}, {'start': 1469...  \n",
            "1      {'start': 228384, 'end': 270816}, {'start': 55...  \n",
            "2                       {'start': 686112, 'end': 776160}  \n",
            "3      {'start': 779808, 'end': 793056}, {'start': 79...  \n",
            "4                       {'start': 887328, 'end': 983520}  \n",
            "...                                                  ...  \n",
            "19340               {'start': 11267616, 'end': 11469792}  \n",
            "19341               {'start': 11488800, 'end': 11569632}  \n",
            "19342               {'start': 11590176, 'end': 11646432}  \n",
            "19343               {'start': 11653152, 'end': 11829216}  \n",
            "19344               {'start': 11839008, 'end': 11877920}  \n",
            "\n",
            "[19345 rows x 2 columns]\n"
          ]
        }
      ]
    },
    {
      "cell_type": "code",
      "source": [
        "df_merged = data1.append(data2, ignore_index=True)"
      ],
      "metadata": {
        "id": "4Ja3JcTA1aQS"
      },
      "execution_count": null,
      "outputs": []
    },
    {
      "cell_type": "code",
      "source": [
        "print(df_merged)"
      ],
      "metadata": {
        "colab": {
          "base_uri": "https://localhost:8080/"
        },
        "id": "nZEOdGIQ2EPJ",
        "outputId": "f3fe3df3-af1a-447c-821b-8871af166b9e"
      },
      "execution_count": null,
      "outputs": [
        {
          "output_type": "stream",
          "name": "stdout",
          "text": [
            "       Unnamed: 0    MinCos  \\\n",
            "0               0  0.259464   \n",
            "1               1  0.078783   \n",
            "2               2  0.002125   \n",
            "3               3 -0.028024   \n",
            "4               4  0.142724   \n",
            "...           ...       ...   \n",
            "21384        7689  0.560980   \n",
            "21385        7690  0.000968   \n",
            "21386        7691  0.135184   \n",
            "21387        7692  0.517376   \n",
            "21388        7693  0.467542   \n",
            "\n",
            "                                                    Path  \\\n",
            "0        /home/lab/Data_SV/France_Test/A314PVRSQIM/0.wav   \n",
            "1        /home/lab/Data_SV/France_Test/A314PVRSQIM/1.wav   \n",
            "2        /home/lab/Data_SV/France_Test/A314PVRSQIM/2.wav   \n",
            "3        /home/lab/Data_SV/France_Test/A314PVRSQIM/3.wav   \n",
            "4        /home/lab/Data_SV/France_Test/A314PVRSQIM/4.wav   \n",
            "...                                                  ...   \n",
            "21384  /home/lab/Data_SV/France_test1/g0Q8tciljHY/210...   \n",
            "21385  /home/lab/Data_SV/France_test1/g0Q8tciljHY/211...   \n",
            "21386  /home/lab/Data_SV/France_test1/g0Q8tciljHY/212...   \n",
            "21387  /home/lab/Data_SV/France_test1/g0Q8tciljHY/213...   \n",
            "21388  /home/lab/Data_SV/France_test1/g0Q8tciljHY/214...   \n",
            "\n",
            "                                              timestamps  \n",
            "0                        {'start': 47136, 'end': 111072}  \n",
            "1      {'start': 128544, 'end': 155616}, {'start': 18...  \n",
            "2      {'start': 254496, 'end': 273888}, {'start': 27...  \n",
            "3      {'start': 415776, 'end': 427488}, {'start': 48...  \n",
            "4      {'start': 580128, 'end': 596448}, {'start': 61...  \n",
            "...                                                  ...  \n",
            "21384  {'start': 45561888, 'end': 45575136}, {'start'...  \n",
            "21385  {'start': 45756960, 'end': 45773280}, {'start'...  \n",
            "21386  {'start': 45962784, 'end': 45989856}, {'start'...  \n",
            "21387  {'start': 46449696, 'end': 46469088}, {'start'...  \n",
            "21388  {'start': 46638624, 'end': 46645728}, {'start'...  \n",
            "\n",
            "[21389 rows x 4 columns]\n"
          ]
        }
      ]
    },
    {
      "cell_type": "code",
      "source": [
        "df_merged.to_csv(\"./Indo_test.csv\")  "
      ],
      "metadata": {
        "id": "95G4cam12J6m"
      },
      "execution_count": null,
      "outputs": []
    }
  ],
  "metadata": {
    "colab": {
      "collapsed_sections": [],
      "provenance": []
    },
    "kernelspec": {
      "display_name": "Python 3",
      "name": "python3"
    },
    "language_info": {
      "codemirror_mode": {
        "name": "ipython",
        "version": 3
      },
      "file_extension": ".py",
      "mimetype": "text/x-python",
      "name": "python",
      "nbconvert_exporter": "python",
      "pygments_lexer": "ipython3",
      "version": "3.8.12"
    }
  },
  "nbformat": 4,
  "nbformat_minor": 0
}