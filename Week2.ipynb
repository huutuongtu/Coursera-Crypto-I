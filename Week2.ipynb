{
  "cells": [
    {
      "cell_type": "code",
      "execution_count": 6,
      "metadata": {
        "colab": {
          "base_uri": "https://localhost:8080/"
        },
        "id": "ajXY-3OUZkBu",
        "outputId": "7f335fd3-0696-49e4-eab8-1020a7c0c827"
      },
      "outputs": [
        {
          "name": "stdout",
          "output_type": "stream",
          "text": [
            "\u001b[33mWARNING: Skipping pycrypto as it is not installed.\u001b[0m\n",
            "WARNING: The easy_install command is deprecated and will be removed in a future version.\n",
            "Searching for pycrypto\n",
            "Reading https://pypi.org/simple/pycrypto/\n",
            "Downloading https://files.pythonhosted.org/packages/60/db/645aa9af249f059cc3a368b118de33889219e0362141e75d4eaf6f80f163/pycrypto-2.6.1.tar.gz#sha256=f2ce1e989b272cfcb677616763e0a2e7ec659effa67a88aa92b3a65528f60a3c\n",
            "Best match: pycrypto 2.6.1\n",
            "Processing pycrypto-2.6.1.tar.gz\n",
            "Writing /tmp/easy_install-Wo2xeH/pycrypto-2.6.1/setup.cfg\n",
            "Running pycrypto-2.6.1/setup.py -q bdist_egg --dist-dir /tmp/easy_install-Wo2xeH/pycrypto-2.6.1/egg-dist-tmp-xOAPdQ\n",
            "warning: GMP or MPIR library not found; Not building Crypto.PublicKey._fastmath.\n",
            "zip_safe flag not set; analyzing archive contents...\n",
            "Moving pycrypto-2.6.1-py2.7-linux-x86_64.egg to /usr/local/lib/python2.7/dist-packages\n",
            "Adding pycrypto 2.6.1 to easy-install.pth file\n",
            "\n",
            "Installed /usr/local/lib/python2.7/dist-packages/pycrypto-2.6.1-py2.7-linux-x86_64.egg\n",
            "Processing dependencies for pycrypto\n",
            "Finished processing dependencies for pycrypto\n"
          ]
        }
      ],
      "source": [
        "!pip uninstall pycrypto\n",
        "!easy_install pycrypto"
      ]
    },
    {
      "cell_type": "code",
      "execution_count": 8,
      "metadata": {
        "colab": {
          "base_uri": "https://localhost:8080/"
        },
        "id": "u7WqE9kVZ3uT",
        "outputId": "b5ccbf48-5dab-4b4a-a051-ea3818ef90dc"
      },
      "outputs": [
        {
          "name": "stdout",
          "output_type": "stream",
          "text": [
            "Looking in indexes: https://pypi.org/simple, https://us-python.pkg.dev/colab-wheels/public/simple/\n",
            "Collecting pycrypto\n",
            "  Downloading pycrypto-2.6.1.tar.gz (446 kB)\n",
            "\u001b[K     |████████████████████████████████| 446 kB 3.8 MB/s \n",
            "\u001b[?25hBuilding wheels for collected packages: pycrypto\n",
            "  Building wheel for pycrypto (setup.py) ... \u001b[?25l\u001b[?25hdone\n",
            "  Created wheel for pycrypto: filename=pycrypto-2.6.1-cp37-cp37m-linux_x86_64.whl size=499932 sha256=32a796a63dbbdefde787fa93d9bac1904932fb14287220228d6417ae00b2dd22\n",
            "  Stored in directory: /root/.cache/pip/wheels/cf/85/ba/bbd7c96add459de7598fb424e5ff2309baf2095c844ac0f191\n",
            "Successfully built pycrypto\n",
            "Installing collected packages: pycrypto\n",
            "Successfully installed pycrypto-2.6.1\n"
          ]
        }
      ],
      "source": [
        "!pip install pycrypto"
      ]
    },
    {
      "cell_type": "code",
      "execution_count": 21,
      "metadata": {
        "colab": {
          "base_uri": "https://localhost:8080/"
        },
        "id": "7UxQTRcIZgR9",
        "outputId": "d3f9ab9c-c826-426a-ffa0-e2772c76fa57"
      },
      "outputs": [
        {
          "name": "stdout",
          "output_type": "stream",
          "text": [
            "b'Our implementation uses rand. IV\\x10\\x10\\x10\\x10\\x10\\x10\\x10\\x10\\x10\\x10\\x10\\x10\\x10\\x10\\x10\\x10'\n"
          ]
        }
      ],
      "source": [
        "from os import urandom\n",
        "from Crypto.Cipher import AES\n",
        "import Crypto.Cipher.AES\n",
        "from binascii import hexlify, unhexlify\n",
        "\n",
        "hexkey = '140b41b22a29beb4061bda66b6747e14'\n",
        "CBCCipherhe = '5b68629feb8606f9a6667670b75b38a5b4832d0f26e1ab7da33249de7d4afc48e713ac646ace36e872ad5fb8a512428a6e21364b0c374df45503473c5242a253'\n",
        "IVCipherhex = CBCCipherhe[:32]\n",
        "Cipherhex = CBCCipherhe[32:]\n",
        "Cipherhex = unhexlify(Cipherhex)\n",
        "IVCipherhex = unhexlify(IVCipherhex)\n",
        "hexkey = unhexlify(hexkey)\n",
        "\n",
        "\n",
        "\n",
        "\n",
        "# For Generating cipher text\n",
        "\n",
        "obj = AES.new(hexkey, AES.MODE_CBC, IVCipherhex)\n",
        "\n",
        "\n",
        "# Decrypt the message\n",
        "rev_obj = AES.new(hexkey, AES.MODE_CBC, IVCipherhex)\n",
        "decrypted_text = rev_obj.decrypt(Cipherhex)\n",
        "print(decrypted_text)\n"
      ]
    }
  ],
  "metadata": {
    "colab": {
      "collapsed_sections": [],
      "provenance": []
    },
    "kernelspec": {
      "display_name": "Python 3",
      "name": "python3"
    },
    "language_info": {
      "codemirror_mode": {
        "name": "ipython",
        "version": 3
      },
      "file_extension": ".py",
      "mimetype": "text/x-python",
      "name": "python",
      "nbconvert_exporter": "python",
      "pygments_lexer": "ipython3",
      "version": "3.8.12"
    }
  },
  "nbformat": 4,
  "nbformat_minor": 0
}
