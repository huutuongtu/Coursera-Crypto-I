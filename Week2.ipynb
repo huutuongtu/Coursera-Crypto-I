{
  "cells": [
    {
      "cell_type": "code",
      "execution_count": 6,
      "metadata": {
        "colab": {
          "base_uri": "https://localhost:8080/"
        },
        "id": "ajXY-3OUZkBu",
        "outputId": "7f335fd3-0696-49e4-eab8-1020a7c0c827"
      },
      "outputs": [
        {
          "name": "stdout",
          "output_type": "stream",
          "text": [
            "\u001b[33mWARNING: Skipping pycrypto as it is not installed.\u001b[0m\n",
            "WARNING: The easy_install command is deprecated and will be removed in a future version.\n",
            "Searching for pycrypto\n",
            "Reading https://pypi.org/simple/pycrypto/\n",
            "Downloading https://files.pythonhosted.org/packages/60/db/645aa9af249f059cc3a368b118de33889219e0362141e75d4eaf6f80f163/pycrypto-2.6.1.tar.gz#sha256=f2ce1e989b272cfcb677616763e0a2e7ec659effa67a88aa92b3a65528f60a3c\n",
            "Best match: pycrypto 2.6.1\n",
            "Processing pycrypto-2.6.1.tar.gz\n",
            "Writing /tmp/easy_install-Wo2xeH/pycrypto-2.6.1/setup.cfg\n",
            "Running pycrypto-2.6.1/setup.py -q bdist_egg --dist-dir /tmp/easy_install-Wo2xeH/pycrypto-2.6.1/egg-dist-tmp-xOAPdQ\n",
            "warning: GMP or MPIR library not found; Not building Crypto.PublicKey._fastmath.\n",
            "zip_safe flag not set; analyzing archive contents...\n",
            "Moving pycrypto-2.6.1-py2.7-linux-x86_64.egg to /usr/local/lib/python2.7/dist-packages\n",
            "Adding pycrypto 2.6.1 to easy-install.pth file\n",
            "\n",
            "Installed /usr/local/lib/python2.7/dist-packages/pycrypto-2.6.1-py2.7-linux-x86_64.egg\n",
            "Processing dependencies for pycrypto\n",
            "Finished processing dependencies for pycrypto\n"
          ]
        }
      ],
      "source": [
        "!pip uninstall pycrypto\n",
        "!easy_install pycrypto"
      ]
    },
    {
      "cell_type": "code",
      "execution_count": 8,
      "metadata": {
        "colab": {
          "base_uri": "https://localhost:8080/"
        },
        "id": "u7WqE9kVZ3uT",
        "outputId": "b5ccbf48-5dab-4b4a-a051-ea3818ef90dc"
      },
      "outputs": [
        {
          "name": "stdout",
          "output_type": "stream",
          "text": [
            "Looking in indexes: https://pypi.org/simple, https://us-python.pkg.dev/colab-wheels/public/simple/\n",
            "Collecting pycrypto\n",
            "  Downloading pycrypto-2.6.1.tar.gz (446 kB)\n",
            "\u001b[K     |████████████████████████████████| 446 kB 3.8 MB/s \n",
            "\u001b[?25hBuilding wheels for collected packages: pycrypto\n",
            "  Building wheel for pycrypto (setup.py) ... \u001b[?25l\u001b[?25hdone\n",
            "  Created wheel for pycrypto: filename=pycrypto-2.6.1-cp37-cp37m-linux_x86_64.whl size=499932 sha256=32a796a63dbbdefde787fa93d9bac1904932fb14287220228d6417ae00b2dd22\n",
            "  Stored in directory: /root/.cache/pip/wheels/cf/85/ba/bbd7c96add459de7598fb424e5ff2309baf2095c844ac0f191\n",
            "Successfully built pycrypto\n",
            "Installing collected packages: pycrypto\n",
            "Successfully installed pycrypto-2.6.1\n"
          ]
        }
      ],
      "source": [
        "!pip install pycrypto"
      ]
    },
    {
      "cell_type": "code",
      "execution_count": 21,
      "metadata": {
        "colab": {
          "base_uri": "https://localhost:8080/"
        },
        "id": "7UxQTRcIZgR9",
        "outputId": "d3f9ab9c-c826-426a-ffa0-e2772c76fa57"
      },
      "outputs": [
        {
          "name": "stdout",
          "output_type": "stream",
          "text": [
            "b'Our implementation uses rand. IV\\x10\\x10\\x10\\x10\\x10\\x10\\x10\\x10\\x10\\x10\\x10\\x10\\x10\\x10\\x10\\x10'\n"
          ]
        }
      ],
      "source": [
        "from os import urandom\n",
        "from Crypto.Cipher import AES\n",
        "import Crypto.Cipher.AES\n",
        "from binascii import hexlify, unhexlify\n",
        "\n",
        "hexkey = '140b41b22a29beb4061bda66b6747e14'\n",
        "CBCCipherhe = '5b68629feb8606f9a6667670b75b38a5b4832d0f26e1ab7da33249de7d4afc48e713ac646ace36e872ad5fb8a512428a6e21364b0c374df45503473c5242a253'\n",
        "IVCipherhex = CBCCipherhe[:32]\n",
        "Cipherhex = CBCCipherhe[32:]\n",
        "Cipherhex = unhexlify(Cipherhex)\n",
        "IVCipherhex = unhexlify(IVCipherhex)\n",
        "hexkey = unhexlify(hexkey)\n",
        "\n",
        "\n",
        "\n",
        "\n",
        "# For Generating cipher text\n",
        "\n",
        "obj = AES.new(hexkey, AES.MODE_CBC, IVCipherhex)\n",
        "\n",
        "\n",
        "# Decrypt the message\n",
        "rev_obj = AES.new(hexkey, AES.MODE_CBC, IVCipherhex)\n",
        "decrypted_text = rev_obj.decrypt(Cipherhex)\n",
        "print(decrypted_text)\n"
      ]
    },
    {
      "cell_type": "code",
      "execution_count": 1,
      "metadata": {},
      "outputs": [
        {
          "ename": "ModuleNotFoundError",
          "evalue": "No module named 'Crypto'",
          "output_type": "error",
          "traceback": [
            "\u001b[1;31m---------------------------------------------------------------------------\u001b[0m",
            "\u001b[1;31mModuleNotFoundError\u001b[0m                       Traceback (most recent call last)",
            "\u001b[1;32mc:\\Users\\Huu Tuong Tu\\Desktop\\Coursera-Crypto I\\Week2.ipynb Cell 4\u001b[0m in \u001b[0;36m<cell line: 2>\u001b[1;34m()\u001b[0m\n\u001b[0;32m      <a href='vscode-notebook-cell:/c%3A/Users/Huu%20Tuong%20Tu/Desktop/Coursera-Crypto%20I/Week2.ipynb#W3sZmlsZQ%3D%3D?line=0'>1</a>\u001b[0m \u001b[39mfrom\u001b[39;00m \u001b[39mos\u001b[39;00m \u001b[39mimport\u001b[39;00m urandom\n\u001b[1;32m----> <a href='vscode-notebook-cell:/c%3A/Users/Huu%20Tuong%20Tu/Desktop/Coursera-Crypto%20I/Week2.ipynb#W3sZmlsZQ%3D%3D?line=1'>2</a>\u001b[0m \u001b[39mfrom\u001b[39;00m \u001b[39mCrypto\u001b[39;00m\u001b[39m.\u001b[39;00m\u001b[39mCipher\u001b[39;00m \u001b[39mimport\u001b[39;00m AES\n\u001b[0;32m      <a href='vscode-notebook-cell:/c%3A/Users/Huu%20Tuong%20Tu/Desktop/Coursera-Crypto%20I/Week2.ipynb#W3sZmlsZQ%3D%3D?line=2'>3</a>\u001b[0m \u001b[39mimport\u001b[39;00m \u001b[39mCrypto\u001b[39;00m\u001b[39m.\u001b[39;00m\u001b[39mCipher\u001b[39;00m\u001b[39m.\u001b[39;00m\u001b[39mAES\u001b[39;00m\n\u001b[0;32m      <a href='vscode-notebook-cell:/c%3A/Users/Huu%20Tuong%20Tu/Desktop/Coursera-Crypto%20I/Week2.ipynb#W3sZmlsZQ%3D%3D?line=3'>4</a>\u001b[0m \u001b[39mfrom\u001b[39;00m \u001b[39mbinascii\u001b[39;00m \u001b[39mimport\u001b[39;00m hexlify, unhexlify\n",
            "\u001b[1;31mModuleNotFoundError\u001b[0m: No module named 'Crypto'"
          ]
        }
      ],
      "source": [
        "from os import urandom\n",
        "from Crypto.Cipher import AES\n",
        "import Crypto.Cipher.AES\n",
        "from binascii import hexlify, unhexlify\n",
        "\n",
        "hexkey = '140b41b22a29beb4061bda66b6747e14'\n",
        "CBCCipherhe = '4ca00ff4c898d61e1edbf1800618fb2828a226d160dad07883d04e008a7897ee2e4b7465d5290d0c0e6c6822236e1daafb94ffe0c5da05d9476be028ad7c1d81'\n",
        "IVCipherhex = CBCCipherhe[:32]\n",
        "Cipherhex = CBCCipherhe[32:]\n",
        "Cipherhex = unhexlify(Cipherhex)\n",
        "IVCipherhex = unhexlify(IVCipherhex)\n",
        "hexkey = unhexlify(hexkey)\n",
        "\n",
        "\n",
        "\n",
        "\n",
        "# For Generating cipher text\n",
        "\n",
        "obj = AES.new(hexkey, AES.MODE_CBC, IVCipherhex)\n",
        "\n",
        "\n",
        "# Decrypt the message\n",
        "rev_obj = AES.new(hexkey, AES.MODE_CBC, IVCipherhex)\n",
        "decrypted_text = rev_obj.decrypt(Cipherhex)\n",
        "print(decrypted_text)\n"
      ]
    }
  ],
  "metadata": {
    "colab": {
      "collapsed_sections": [],
      "provenance": []
    },
    "kernelspec": {
      "display_name": "Python 3.10.5 64-bit",
      "language": "python",
      "name": "python3"
    },
    "language_info": {
      "codemirror_mode": {
        "name": "ipython",
        "version": 3
      },
      "file_extension": ".py",
      "mimetype": "text/x-python",
      "name": "python",
      "nbconvert_exporter": "python",
      "pygments_lexer": "ipython3",
      "version": "3.10.5"
    },
    "vscode": {
      "interpreter": {
        "hash": "13a98fec1af2644bc5c6550ec963233aadd254f48181f60d849a8d0330e8cd6d"
      }
    }
  },
  "nbformat": 4,
  "nbformat_minor": 0
}
