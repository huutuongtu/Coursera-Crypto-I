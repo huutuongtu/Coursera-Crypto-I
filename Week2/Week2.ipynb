{
  "cells": [
    {
      "cell_type": "code",
      "source": [
        "!pip uninstall pycrypto\n",
        "!easy_install pycrypto"
      ],
      "metadata": {
        "colab": {
          "base_uri": "https://localhost:8080/"
        },
        "id": "ajXY-3OUZkBu",
        "outputId": "c7c1454f-dbec-4c25-d42a-eb1abf908470"
      },
      "execution_count": null,
      "outputs": [
        {
          "output_type": "stream",
          "name": "stdout",
          "text": [
            "\u001b[33mWARNING: Skipping pycrypto as it is not installed.\u001b[0m\n",
            "WARNING: The easy_install command is deprecated and will be removed in a future version.\n",
            "Searching for pycrypto\n",
            "Reading https://pypi.org/simple/pycrypto/\n",
            "Downloading https://files.pythonhosted.org/packages/60/db/645aa9af249f059cc3a368b118de33889219e0362141e75d4eaf6f80f163/pycrypto-2.6.1.tar.gz#sha256=f2ce1e989b272cfcb677616763e0a2e7ec659effa67a88aa92b3a65528f60a3c\n",
            "Best match: pycrypto 2.6.1\n",
            "Processing pycrypto-2.6.1.tar.gz\n",
            "Writing /tmp/easy_install-RxkpYH/pycrypto-2.6.1/setup.cfg\n",
            "Running pycrypto-2.6.1/setup.py -q bdist_egg --dist-dir /tmp/easy_install-RxkpYH/pycrypto-2.6.1/egg-dist-tmp-MTMGx0\n",
            "warning: GMP or MPIR library not found; Not building Crypto.PublicKey._fastmath.\n",
            "zip_safe flag not set; analyzing archive contents...\n",
            "Moving pycrypto-2.6.1-py2.7-linux-x86_64.egg to /usr/local/lib/python2.7/dist-packages\n",
            "Adding pycrypto 2.6.1 to easy-install.pth file\n",
            "\n",
            "Installed /usr/local/lib/python2.7/dist-packages/pycrypto-2.6.1-py2.7-linux-x86_64.egg\n",
            "Processing dependencies for pycrypto\n",
            "Finished processing dependencies for pycrypto\n"
          ]
        }
      ]
    },
    {
      "cell_type": "code",
      "source": [
        "!pip install pycrypto"
      ],
      "metadata": {
        "colab": {
          "base_uri": "https://localhost:8080/"
        },
        "id": "u7WqE9kVZ3uT",
        "outputId": "5920e91d-859c-458e-aa3b-3f11959fed77"
      },
      "execution_count": null,
      "outputs": [
        {
          "output_type": "stream",
          "name": "stdout",
          "text": [
            "Looking in indexes: https://pypi.org/simple, https://us-python.pkg.dev/colab-wheels/public/simple/\n",
            "Collecting pycrypto\n",
            "  Downloading pycrypto-2.6.1.tar.gz (446 kB)\n",
            "\u001b[K     |████████████████████████████████| 446 kB 4.2 MB/s \n",
            "\u001b[?25hBuilding wheels for collected packages: pycrypto\n",
            "  Building wheel for pycrypto (setup.py) ... \u001b[?25l\u001b[?25hdone\n",
            "  Created wheel for pycrypto: filename=pycrypto-2.6.1-cp37-cp37m-linux_x86_64.whl size=499932 sha256=45714e494b81ed9eb7e95957a05120ec4293f2ebf412699e14e09223f847a6ed\n",
            "  Stored in directory: /root/.cache/pip/wheels/cf/85/ba/bbd7c96add459de7598fb424e5ff2309baf2095c844ac0f191\n",
            "Successfully built pycrypto\n",
            "Installing collected packages: pycrypto\n",
            "Successfully installed pycrypto-2.6.1\n"
          ]
        }
      ]
    },
    {
      "cell_type": "code",
      "source": [
        "from os import urandom\n",
        "from Crypto.Cipher import AES\n",
        "import Crypto.Cipher.AES\n",
        "from binascii import hexlify, unhexlify\n",
        "\n",
        "hexkey = '140b41b22a29beb4061bda66b6747e14'\n",
        "CBCCipherhe = '5b68629feb8606f9a6667670b75b38a5b4832d0f26e1ab7da33249de7d4afc48e713ac646ace36e872ad5fb8a512428a6e21364b0c374df45503473c5242a253'\n",
        "IVCipherhex = CBCCipherhe[:32]\n",
        "Cipherhex = CBCCipherhe[32:]\n",
        "Cipherhex = unhexlify(Cipherhex)\n",
        "IVCipherhex = unhexlify(IVCipherhex)\n",
        "hexkey = unhexlify(hexkey)\n",
        "\n",
        "\n",
        "\n",
        "\n",
        "# For Generating cipher text\n",
        "\n",
        "obj = AES.new(hexkey, AES.MODE_CBC, IVCipherhex)\n",
        "\n",
        "\n",
        "# Decrypt the message\n",
        "rev_obj = AES.new(hexkey, AES.MODE_CBC, IVCipherhex)\n",
        "decrypted_text = rev_obj.decrypt(Cipherhex)\n",
        "print(decrypted_text.decode('utf-8'))\n"
      ],
      "metadata": {
        "colab": {
          "base_uri": "https://localhost:8080/"
        },
        "id": "7UxQTRcIZgR9",
        "outputId": "7b790294-8e9e-4f33-9a79-362b5003f107"
      },
      "execution_count": null,
      "outputs": [
        {
          "output_type": "stream",
          "name": "stdout",
          "text": [
            "Our implementation uses rand. IV\u0010\u0010\u0010\u0010\u0010\u0010\u0010\u0010\u0010\u0010\u0010\u0010\u0010\u0010\u0010\u0010\n"
          ]
        }
      ]
    },
    {
      "cell_type": "code",
      "source": [
        "from os import urandom\n",
        "from Crypto.Cipher import AES\n",
        "import Crypto.Cipher.AES\n",
        "from binascii import hexlify, unhexlify\n",
        "from Crypto.Util import Counter\n",
        "\n",
        "hexkey = '140b41b22a29beb4061bda66b6747e14'\n",
        "CBCCipherhe = '4ca00ff4c898d61e1edbf1800618fb2828a226d160dad07883d04e008a7897ee2e4b7465d5290d0c0e6c6822236e1daafb94ffe0c5da05d9476be028ad7c1d81'\n",
        "IVCipherhex = CBCCipherhe[:32]\n",
        "Cipherhex = CBCCipherhe[32:]\n",
        "Cipherhex = unhexlify(Cipherhex)\n",
        "IVCipherhex = unhexlify(IVCipherhex)\n",
        "hexkey = unhexlify(hexkey)\n",
        "\n",
        "\n",
        "# ctr = Counter.new(32*8,initial_value=long(IVCipherhex.encode('hex'),32))\n",
        "\n",
        "\n",
        "\n",
        "# Decrypt the message\n",
        "rev_obj = AES.new(hexkey, AES.MODE_CBC, IVCipherhex)\n",
        "decrypted_text = rev_obj.decrypt(Cipherhex)\n",
        "print(decrypted_text)\n"
      ],
      "metadata": {
        "colab": {
          "base_uri": "https://localhost:8080/"
        },
        "id": "Czz6BB0jAntq",
        "outputId": "d9218766-cb10-4650-dc93-61bf82caddf6"
      },
      "execution_count": null,
      "outputs": [
        {
          "output_type": "stream",
          "name": "stdout",
          "text": [
            "b'Basic CBC mode encryption needs padding.\\x08\\x08\\x08\\x08\\x08\\x08\\x08\\x08'\n"
          ]
        }
      ]
    },
    {
      "cell_type": "code",
      "source": [
        "from os import urandom\n",
        "from Crypto.Cipher import AES\n",
        "import Crypto.Cipher.AES\n",
        "from binascii import hexlify, unhexlify\n",
        "from Crypto.Util import Counter\n",
        "\n",
        "hexkey = '36f18357be4dbd77f050515c73fcf9f2'\n",
        "CBCCipherhe = '69dda8455c7dd4254bf353b773304eec0ec7702330098ce7f7520d1cbbb20fc388d1b0adb5054dbd7370849dbf0b88d393f252e764f1f5f7ad97ef79d59ce29f5f51eeca32eabedd9afa9329'\n",
        "IVCipherhex = CBCCipherhe[:32]\n",
        "Cipherhex = CBCCipherhe[32:]\n",
        "Cipherhex = unhexlify(Cipherhex)\n",
        "IVCipherhex = unhexlify(IVCipherhex)\n",
        "hexkey = unhexlify(hexkey)\n",
        "\n",
        "\n",
        "\n",
        "\n",
        "# For Generating cipher text\n",
        "\n",
        "obj = AES.new(hexkey, AES.MODE_CTR, counter=lambda: IVCipherhex)\n",
        "\n",
        "\n",
        "# Decrypt the message\n",
        "rev_obj = AES.new(hexkey, AES.MODE_CTR, counter=lambda: IVCipherhex)\n",
        "decrypted_text = rev_obj.decrypt(Cipherhex)\n",
        "print(decrypted_text)\n"
      ],
      "metadata": {
        "colab": {
          "base_uri": "https://localhost:8080/"
        },
        "id": "YvJ_pFbnBa-o",
        "outputId": "dfe1ffcc-017f-47dd-b7a6-338d4420243a"
      },
      "execution_count": null,
      "outputs": [
        {
          "output_type": "stream",
          "name": "stdout",
          "text": [
            "b'CTR mode lets yo\\xc5B\\x92\\xae\\xe8c\\xa5?\\xa4N\\xec\\xf5w\\x99\\xfe\\x7f\\xdeap\\xe49\\x97\\x1duz\\xa9\\x87\\x11\\x1d\\x0e\\x943\\x12\\xc2\\xcc\\xc9o\\x8cV_M\\xc4\\xfbA'\n"
          ]
        }
      ]
    },
    {
      "cell_type": "code",
      "source": [
        "from os import urandom\n",
        "from Crypto.Cipher import AES\n",
        "import Crypto.Cipher.AES\n",
        "from binascii import hexlify, unhexlify\n",
        "from Crypto.Util import Counter\n",
        "\n",
        "hexkey = '36f18357be4dbd77f050515c73fcf9f2'\n",
        "CBCCipherhe = '770b80259ec33beb2561358a9f2dc617e46218c0a53cbeca695ae45faa8952aa0e311bde9d4e01726d3184c34451'\n",
        "IVCipherhex = CBCCipherhe[:32]\n",
        "Cipherhex = CBCCipherhe[32:]\n",
        "Cipherhex = unhexlify(Cipherhex)\n",
        "IVCipherhex = unhexlify(IVCipherhex)\n",
        "hexkey = unhexlify(hexkey)\n",
        "\n",
        "\n",
        "\n",
        "\n",
        "# Decrypt the message\n",
        "rev_obj = AES.new(hexkey, AES.MODE_CTR, counter=lambda: IVCipherhex)\n",
        "decrypted_text = rev_obj.decrypt(Cipherhex)\n",
        "print(decrypted_text)\n"
      ],
      "metadata": {
        "colab": {
          "base_uri": "https://localhost:8080/"
        },
        "id": "_-pBAXtPECGF",
        "outputId": "a0a3a3c8-99e6-4139-9b6d-9655cdf3350c"
      },
      "execution_count": null,
      "outputs": [
        {
          "output_type": "stream",
          "name": "stdout",
          "text": [
            "b'Always avoid the\\xab?t\\x7fA\\x01\\x9f\\xd9r\\x04\\t\\xf8\\xce\\xac'\n"
          ]
        }
      ]
    }
  ],
  "metadata": {
    "colab": {
      "collapsed_sections": [],
      "provenance": []
    },
    "kernelspec": {
      "display_name": "Python 3",
      "name": "python3"
    },
    "language_info": {
      "codemirror_mode": {
        "name": "ipython",
        "version": 3
      },
      "file_extension": ".py",
      "mimetype": "text/x-python",
      "name": "python",
      "nbconvert_exporter": "python",
      "pygments_lexer": "ipython3",
      "version": "3.8.12"
    }
  },
  "nbformat": 4,
  "nbformat_minor": 0
}